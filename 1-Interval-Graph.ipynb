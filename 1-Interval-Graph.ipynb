{
 "cells": [
  {
   "cell_type": "markdown",
   "metadata": {},
   "source": [
    "<img src=\"Images/callystoBannerTop.jpg\"/>"
   ]
  },
  {
   "cell_type": "markdown",
   "metadata": {},
   "source": [
    "# Introduction \n",
    "When the data consist of numerical scores that have been measured on an interval or ratio scale,\n",
    "\n",
    "there are two options for constructing a frequency distribution graph. \n",
    "\n",
    "**1. histograms**</a><br>\n",
    "**2. polygons**"
   ]
  },
  {
   "cell_type": "markdown",
   "metadata": {},
   "source": [
    "# Table of Content \n",
    "I. **<a href=\"#Histogram\">Histograms**\n",
    "- <a href=\"#definitionHistograms\">Definition and Characteristics of Histograms</a><br>\n",
    "- <a href=\"#constructHistograms\">Construction of Histograms</a><br>\n",
    "    \n",
    "    \n",
    "II. **<a href=\"#Polygons\">Polygons**\n",
    "- <a href=\"#definitionPolygons\">Definition and Characteristics of Polygons</a><br>\n",
    "- <a href=\"#constructPolygons\">Construction of Polygons</a><br>\n",
    "  \n",
    "  \n",
    "III.**<a href=\"#References\">References and Credits**"
   ]
  },
  {
   "cell_type": "markdown",
   "metadata": {},
   "source": [
    "<h1><a name=\"Histogram\" style=\"text-decoration: none; color: black;\">Histograms</a></h1>"
   ]
  },
  {
   "cell_type": "markdown",
   "metadata": {},
   "source": [
    "<h1><a name=\"definitionHistograms\" style=\"text-decoration: none; color: black; font-size: 23px\">Definition and Characteristics of Histograms</a></h1>\n",
    "\n",
    "A **histogram** is a display of statistical information that uses rectangles to show frequency distribution of continuous data in successive numerical intervals of equal size.\n",
    "- histograms should have no space between adjacent bars.\n",
    "- histograms represent the frequency distribution of continuous numerical data. "
   ]
  },
  {
   "cell_type": "markdown",
   "metadata": {},
   "source": [
    "<h1><a name=\"constructHistograms\" style=\"text-decoration: none; color: black; font-size: 23px\">Construction of Histograms</a></h1>\n",
    "To construct a histogram, you first list the numerical scores along the x-axis and draw a bar above each X value so that \n",
    "\n",
    "\n",
    "- **Y-axis of a histogram** indicates dependent variable along the vertical axis,  and this corresponds to the frequency of that range of data.\n",
    "     - a. The height of the bar corresponds to the frequency for that category.\n",
    "     \n",
    "     \n",
    "- **X-axis of a histogram** indicates independent variable along the horizontal axis, and a range of data is graphed here. \n",
    "    - b. For continuous variables, the width of the bar extends to the real limits of the category. \n",
    "    - c. For discrete variables, each bar extends half the distance to the adjacent category on each side.\n"
   ]
  },
  {
   "cell_type": "markdown",
   "metadata": {},
   "source": [
    "The graph below is an illustration of a histogram graph using random numbers as the X-axis and the Y-axis. "
   ]
  },
  {
   "cell_type": "code",
   "execution_count": 30,
   "metadata": {},
   "outputs": [],
   "source": [
    "import matplotlib.pyplot as plt\n",
    "import random"
   ]
  },
  {
   "cell_type": "code",
   "execution_count": 31,
   "metadata": {},
   "outputs": [
    {
     "data": {
      "image/png": "[encoded data removed]",
      "text/plain": [
       "<Figure size 432x288 with 1 Axes>"
      ]
     },
     "metadata": {
      "needs_background": "light"
     },
     "output_type": "display_data"
    }
   ],
   "source": [
    "data = [random.randint(0, 11) for _ in range(100)]\n",
    "plt.hist(data)\n",
    "\n",
    "plt.ylabel('Y-axis: Dependent Variable')\n",
    "plt.xlabel('X-axis: Independent Variable')\n",
    "plt.title('Title Of The Graph')\n",
    "plt.show()"
   ]
  },
  {
   "cell_type": "markdown",
   "metadata": {},
   "source": [
    "The graph below is an example of histogram using these set of data.\n",
    "Suppose we are collecting data about the frequency distribution of a set of quiz scores. We will import the data using CSV files and construct a histogram based on the data. \n",
    "\n",
    "The table below is the set of data that is imported from the CSV file. "
   ]
  },
  {
   "cell_type": "code",
   "execution_count": 32,
   "metadata": {},
   "outputs": [
    {
     "data": {
      "text/html": [
       "<div>\n",
       "<style scoped>\n",
       "    .dataframe tbody tr th:only-of-type {\n",
       "        vertical-align: middle;\n",
       "    }\n",
       "\n",
       "    .dataframe tbody tr th {\n",
       "        vertical-align: top;\n",
       "    }\n",
       "\n",
       "    .dataframe thead th {\n",
       "        text-align: right;\n",
       "    }\n",
       "</style>\n",
       "<table border=\"1\" class=\"dataframe\">\n",
       "  <thead>\n",
       "    <tr style=\"text-align: right;\">\n",
       "      <th></th>\n",
       "      <th>Frequency</th>\n",
       "    </tr>\n",
       "    <tr>\n",
       "      <th>Scores</th>\n",
       "      <th></th>\n",
       "    </tr>\n",
       "  </thead>\n",
       "  <tbody>\n",
       "    <tr>\n",
       "      <th>0</th>\n",
       "      <td>2</td>\n",
       "    </tr>\n",
       "    <tr>\n",
       "      <th>1</th>\n",
       "      <td>9</td>\n",
       "    </tr>\n",
       "    <tr>\n",
       "      <th>2</th>\n",
       "      <td>7</td>\n",
       "    </tr>\n",
       "    <tr>\n",
       "      <th>3</th>\n",
       "      <td>5</td>\n",
       "    </tr>\n",
       "    <tr>\n",
       "      <th>4</th>\n",
       "      <td>8</td>\n",
       "    </tr>\n",
       "    <tr>\n",
       "      <th>5</th>\n",
       "      <td>3</td>\n",
       "    </tr>\n",
       "    <tr>\n",
       "      <th>6</th>\n",
       "      <td>5</td>\n",
       "    </tr>\n",
       "    <tr>\n",
       "      <th>7</th>\n",
       "      <td>9</td>\n",
       "    </tr>\n",
       "    <tr>\n",
       "      <th>8</th>\n",
       "      <td>1</td>\n",
       "    </tr>\n",
       "    <tr>\n",
       "      <th>9</th>\n",
       "      <td>8</td>\n",
       "    </tr>\n",
       "    <tr>\n",
       "      <th>10</th>\n",
       "      <td>3</td>\n",
       "    </tr>\n",
       "  </tbody>\n",
       "</table>\n",
       "</div>"
      ],
      "text/plain": [
       "        Frequency\n",
       "Scores           \n",
       "0               2\n",
       "1               9\n",
       "2               7\n",
       "3               5\n",
       "4               8\n",
       "5               3\n",
       "6               5\n",
       "7               9\n",
       "8               1\n",
       "9               8\n",
       "10              3"
      ]
     },
     "execution_count": 32,
     "metadata": {},
     "output_type": "execute_result"
    }
   ],
   "source": [
    "import matplotlib.pyplot as plt\n",
    "import pandas as pd\n",
    "import numpy as np\n",
    "\n",
    "#import data from a CSV file \n",
    "#you can use a different set of data by importing a different CSV files and index_col\n",
    "data = pd.read_csv('Data/graph1.csv', index_col='Scores')\n",
    "data"
   ]
  },
  {
   "cell_type": "markdown",
   "metadata": {},
   "source": [
    "The graph below is the histogram graph that is plotted using the set of data from the CSV file. "
   ]
  },
  {
   "cell_type": "code",
   "execution_count": 33,
   "metadata": {},
   "outputs": [
    {
     "data": {
      "image/png": "[encoded data removed]",
      "text/plain": [
       "<Figure size 432x288 with 1 Axes>"
      ]
     },
     "metadata": {
      "needs_background": "light"
     },
     "output_type": "display_data"
    }
   ],
   "source": [
    "#you can also change the width of the rectangular block for each score\n",
    "data.plot(kind='bar', width = 1)\n",
    "\n",
    "#you can also change the labels of the X-axis and Y-axis\n",
    "plt.ylabel('Freuency')\n",
    "plt.xlabel('Quiz scores (number correct)')\n",
    "\n",
    "#you can also change the title of the graph\n",
    "plt.title('Title of The Graph')\n",
    "plt.show()"
   ]
  },
  {
   "cell_type": "markdown",
   "metadata": {},
   "source": [
    "You can also construct a histogram by manually putting down the set of numbers you collected. "
   ]
  },
  {
   "cell_type": "code",
   "execution_count": 34,
   "metadata": {},
   "outputs": [
    {
     "data": {
      "image/png": "[encoded data removed]",
      "text/plain": [
       "<Figure size 432x288 with 1 Axes>"
      ]
     },
     "metadata": {
      "needs_background": "light"
     },
     "output_type": "display_data"
    }
   ],
   "source": [
    "import matplotlib.pyplot as plt\n",
    "import pandas as pd\n",
    "\n",
    "plt.ylabel('Y-axis: Frequency')\n",
    "plt.xlabel('Quiz scores (number correct)')\n",
    "plt.title('Title Of The Graph')\n",
    "plt.ylim([0, 10])\n",
    "\n",
    "#you can also change the range of data on the X-axis\n",
    "plt.xticks(np.arange(0, 11, step=1))\n",
    "\n",
    "#you can also create a histogram graph by manually putting down the numbers you collected. \n",
    "plt.hist(x=[0,0,1,1,1,1,1,1,1,1,1,2, 2, 2,2, 2,2, 2,3,3,3,3,3,4,4,4,4,4,4,4,4,5,5,5,6,6,6,6,6,7,7,7,7,7,7,7,7,7,8,9,9,9,9,9,9,9,9,10,10,10], bins=[0, 1, 2, 3, 4, 5, 6, 7, 8, 9, 10,11])\n",
    "\n",
    "plt.show()"
   ]
  },
  {
   "cell_type": "markdown",
   "metadata": {},
   "source": [
    "<h1><a name=\"Polygons\" style=\"text-decoration: none; color: black;\">Polygons</a></h1>"
   ]
  },
  {
   "cell_type": "markdown",
   "metadata": {},
   "source": [
    "<h1><a name=\"definitionPolygons\" style=\"text-decoration: none; color: black; font-size: 23px\">Definition and Characteristics of Polygons</a></h1>\n",
    "\n",
    "A **polygon** is another type of distribution of numerical scores from an interval or ratio scale of measurement."
   ]
  },
  {
   "cell_type": "markdown",
   "metadata": {},
   "source": [
    "<h1><a name=\"constructPolygons\" style=\"text-decoration: none; color: black; font-size: 23px\">Construction of Polygons</a></h1>\n",
    "\n",
    "To construct a bar graph, you begin by listing the numerical scores along the X-axis. \n",
    "\n",
    "- **A dot** is centered above each score so that the vertical position of the dot corresponds to the frequency for the category. \n",
    "     - a. The height of the bar corresponds to the frequency for that category.\n",
    "     \n",
    "- **A continuous line** is drawn from dot to dot to connect series of dots.\n",
    "\n",
    "\n",
    "\n",
    "\n",
    "\n",
    "- The graph is completed by drawing a line down to the X-axis (zero frequency) at each end of the range of scores. The final lines are usually drawn so that they reach the X-axis at a point that is one category below the lowest score on the left side and one category above the highest score on the right side. "
   ]
  },
  {
   "cell_type": "markdown",
   "metadata": {},
   "source": [
    "The graph below is an example of histogram using these set of data.\n",
    "Suppose we are collecting data about the frequency distribution of the heights of a group of children. We will import the data using CSV files and construct a polygon graph based on the data. "
   ]
  },
  {
   "cell_type": "code",
   "execution_count": 35,
   "metadata": {},
   "outputs": [
    {
     "data": {
      "text/plain": [
       "[<matplotlib.lines.Line2D at 0x120c4b278>]"
      ]
     },
     "execution_count": 35,
     "metadata": {},
     "output_type": "execute_result"
    },
    {
     "data": {
      "image/png": "[encoded data removed]",
      "text/plain": [
       "<Figure size 432x288 with 1 Axes>"
      ]
     },
     "metadata": {
      "needs_background": "light"
     },
     "output_type": "display_data"
    }
   ],
   "source": [
    "import matplotlib.pyplot as plt\n",
    "import pandas as pd\n",
    "\n",
    "#import data from a CSV file \n",
    "#you can use a different set of data by importing a different CSV files and index_col\n",
    "data = pd.read_csv('Data/graph2.csv', index_col='Heights')\n",
    "\n",
    "#you can also change the labels of the X-axis and Y-axis\n",
    "plt.xlabel('Heights')\n",
    "plt.ylabel('Freuency')\n",
    "\n",
    "#you can also change the title of the graph\n",
    "plt.title('Title of The Graph')\n",
    "\n",
    "#you can also change the range of data on the X-axis and on the Y-axis\n",
    "plt.xticks(np.arange(150, 170, step=1))\n",
    "plt.ylim([0, 10])\n",
    "\n",
    "plt.plot(data)"
   ]
  },
  {
   "cell_type": "markdown",
   "metadata": {},
   "source": [
    "<h1><a name=\"References\" style=\"text-decoration: none; color: black;\">References and Credits</a></h1>\n",
    "Most of the illustrations and examples are from:\n",
    "\n",
    "Gravetter, F. J., & Wallnau, L. B. (2016). Statistics for the behavioral sciences (10th Ed). Belmont, CA: Thomson Wadsworth.\n",
    "\n",
    "S, S. (2019). Difference Between Histogram and Bar Graph (with Comparison Chart) - Key Differences. [online] Key Differences. Available at: https://keydifferences.com/difference-between-histogram-and-bar-graph.html#KeyDifferences [Accessed 29 Aug. 2019]."
   ]
  },
  {
   "cell_type": "markdown",
   "metadata": {},
   "source": [
    "<img src=\"Images/callystoBannerBottom.jpg\"/>"
   ]
  }
 ],
 "metadata": {
  "kernelspec": {
   "display_name": "Python 3",
   "language": "python",
   "name": "python3"
  },
  "language_info": {
   "codemirror_mode": {
    "name": "ipython",
    "version": 3
   },
   "file_extension": ".py",
   "mimetype": "text/x-python",
   "name": "python",
   "nbconvert_exporter": "python",
   "pygments_lexer": "ipython3",
   "version": "3.7.3"
  }
 },
 "nbformat": 4,
 "nbformat_minor": 2
}
