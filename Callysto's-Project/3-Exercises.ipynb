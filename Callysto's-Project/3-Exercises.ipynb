{
 "cells": [
  {
   "cell_type": "markdown",
   "metadata": {},
   "source": [
    "<img src=\"Images/callystoBannerTop.jpg\"/>"
   ]
  },
  {
   "cell_type": "markdown",
   "metadata": {},
   "source": [
    "# Practise and Answer \n",
    "\n",
    "There are two questions below that can test your Frequency Distribution Graphs knowledge.\n",
    "Please try to solve the questions first. If you are struggling, click on `show answer` for solutions. "
   ]
  },
  {
   "cell_type": "markdown",
   "metadata": {},
   "source": [
    "**Example 1:** The seminar room in the library are identified by letters (A, B, C, and so on). A professor records the number of classes held in each room during the fall semester. If these values are presented in a frequency distribution graph, what kind of graph would be appropriate?\n",
    "\n",
    "A. a histogram\n",
    "\n",
    "B. a polygon\n",
    "\n",
    "C. a histogram or a polygon\n",
    "\n",
    "D. a bar graph"
   ]
  },
  {
   "cell_type": "code",
   "execution_count": 7,
   "metadata": {},
   "outputs": [
    {
     "data": {
      "application/javascript": [
       "//get the button you want to add functionality using ID \n",
       "var button = $('#button1');\n",
       "//add function to button\n",
       "button.click(function(){\n",
       "                if($('#answer1').is(\":visible\")){\n",
       "                     $('#answer1').parent().parent().parent().hide()\n",
       "                }\n",
       "                else if($('#answer1').is(\":hidden\")){\n",
       "                    $('#answer1').parent().parent().parent().show();\n",
       "                }\n",
       "            })\n",
       "\n",
       "\n",
       "\n",
       "//This hides all divs with classes answers in them\n",
       "$(document).ready(function() {\n",
       "    $('.answers').parent().parent().parent().hide();\n",
       "});\n"
      ],
      "text/plain": [
       "<IPython.core.display.Javascript object>"
      ]
     },
     "metadata": {},
     "output_type": "display_data"
    }
   ],
   "source": [
    "%%javascript\n",
    "//get the button you want to add functionality using ID \n",
    "var button = $('#button1');\n",
    "//add function to button\n",
    "button.click(function(){\n",
    "                if($('#answer1').is(\":visible\")){\n",
    "                     $('#answer1').parent().parent().parent().hide()\n",
    "                }\n",
    "                else if($('#answer1').is(\":hidden\")){\n",
    "                    $('#answer1').parent().parent().parent().show();\n",
    "                }\n",
    "            })\n",
    "\n",
    "\n",
    "\n",
    "//This hides all divs with classes answers in them\n",
    "$(document).ready(function() {\n",
    "    $('.answers').parent().parent().parent().hide();\n",
    "});"
   ]
  },
  {
   "cell_type": "markdown",
   "metadata": {},
   "source": [
    "<div>\n",
    "    <button id=\"button1\">\n",
    "        Show Answer!\n",
    "    </button>\n",
    "</div>"
   ]
  },
  {
   "cell_type": "markdown",
   "metadata": {},
   "source": [
    "D. a bar graph\n",
    "<div id=\"answer1\" class=\"answers\">\n",
    "\n",
    "</div>"
   ]
  },
  {
   "cell_type": "markdown",
   "metadata": {},
   "source": [
    "**Example 2:** A group of quiz scores ranging from 4-9 are shown in a histogram. If the bars in the histogram gradually increases in height from left to right, what can you conclude about the set of quiz scores?\n",
    "\n",
    "A. There are more high scores than there are low scores.\n",
    "\n",
    "B. There are more low scores than there are high scores.\n",
    "\n",
    "C. The height of the bars always increases as the scores increase.\n",
    "\n",
    "D. None of the above"
   ]
  },
  {
   "cell_type": "code",
   "execution_count": 8,
   "metadata": {},
   "outputs": [
    {
     "data": {
      "application/javascript": [
       "//get the button you want to add functionality using ID \n",
       "var button = $('#button2');\n",
       "//add function to button\n",
       "button.click(function(){\n",
       "                if($('#answer2').is(\":visible\")){\n",
       "                     $('#answer2').parent().parent().parent().hide()\n",
       "                }\n",
       "                else if($('#answer2').is(\":hidden\")){\n",
       "                    $('#answer2').parent().parent().parent().show();\n",
       "                }\n",
       "            })\n",
       "\n",
       "\n",
       "\n",
       "//This hides all divs with classes answers in them\n",
       "$(document).ready(function() {\n",
       "    $('.answers').parent().parent().parent().hide();\n",
       "});\n"
      ],
      "text/plain": [
       "<IPython.core.display.Javascript object>"
      ]
     },
     "metadata": {},
     "output_type": "display_data"
    }
   ],
   "source": [
    "%%javascript\n",
    "//get the button you want to add functionality using ID \n",
    "var button = $('#button2');\n",
    "//add function to button\n",
    "button.click(function(){\n",
    "                if($('#answer2').is(\":visible\")){\n",
    "                     $('#answer2').parent().parent().parent().hide()\n",
    "                }\n",
    "                else if($('#answer2').is(\":hidden\")){\n",
    "                    $('#answer2').parent().parent().parent().show();\n",
    "                }\n",
    "            })\n",
    "\n",
    "\n",
    "\n",
    "//This hides all divs with classes answers in them\n",
    "$(document).ready(function() {\n",
    "    $('.answers').parent().parent().parent().hide();\n",
    "});"
   ]
  },
  {
   "cell_type": "markdown",
   "metadata": {},
   "source": [
    "<div>\n",
    "    <button id=\"button2\">\n",
    "        Show Answer!\n",
    "    </button>\n",
    "</div>"
   ]
  },
  {
   "cell_type": "markdown",
   "metadata": {},
   "source": [
    "A. There are more high scores than there are low scores. \n",
    "<div id=\"answer2\" class=\"answers\">\n",
    "\n",
    "</div>"
   ]
  },
  {
   "cell_type": "markdown",
   "metadata": {},
   "source": [
    "D. a bar graph\n",
    "\n",
    "<div id=\"answer1\" class=\"answers\">\n",
    "\n",
    "</div>"
   ]
  },
  {
   "cell_type": "markdown",
   "metadata": {},
   "source": [
    "<h1><a name=\"References\" style=\"text-decoration: none; color: black;\">References and Credits</a></h1>\n",
    "The examples are from:\n",
    "\n",
    "Gravetter, F. J., & Wallnau, L. B. (2016). Statistics for the behavioral sciences (10th Ed). Belmont, CA: Thomson Wadsworth."
   ]
  },
  {
   "cell_type": "markdown",
   "metadata": {},
   "source": [
    "<img src=\"Images/callystoBannerBottom.jpg\"/>"
   ]
  }
 ],
 "metadata": {
  "kernelspec": {
   "display_name": "Python 3",
   "language": "python",
   "name": "python3"
  },
  "language_info": {
   "codemirror_mode": {
    "name": "ipython",
    "version": 3
   },
   "file_extension": ".py",
   "mimetype": "text/x-python",
   "name": "python",
   "nbconvert_exporter": "python",
   "pygments_lexer": "ipython3",
   "version": "3.7.3"
  }
 },
 "nbformat": 4,
 "nbformat_minor": 2
}
