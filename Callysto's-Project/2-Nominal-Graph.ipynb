{
 "cells": [
  {
   "cell_type": "markdown",
   "metadata": {},
   "source": [
    "<img src=\"Images/callystoBannerTop.jpg\"/>"
   ]
  },
  {
   "cell_type": "markdown",
   "metadata": {},
   "source": [
    "# Introduction \n",
    "When the data are measured on a nominal or ordinal scale (usually non-numerical values),\n",
    "\n",
    "the frequency distrubution can be displayed in a **bar graph**. "
   ]
  },
  {
   "cell_type": "markdown",
   "metadata": {},
   "source": [
    "# Table of Content \n",
    "I. **<a href=\"#Bar\">Bar Graphs**\n",
    "- <a href=\"#definitionBar\">Definition and Characteristics of Bar Graphs</a><br>\n",
    "- <a href=\"#constructBar\">Construction of Bar Graphs</a><br>\n",
    "- <a href=\"#relative\">Obtain Relative Frequencies Using Bar Graphs</a><br>\n",
    "    \n",
    "II. **<a href=\"#Differences\">Differences Between Histograms and Bar Graphs**\n",
    "    \n",
    "III.**<a href=\"#References\">References and Credits**"
   ]
  },
  {
   "cell_type": "markdown",
   "metadata": {},
   "source": [
    "<h1><a name=\"Bar\" style=\"text-decoration: none; color: black;\">Bar Graphs</a></h1>"
   ]
  },
  {
   "cell_type": "markdown",
   "metadata": {},
   "source": [
    "<h1><a name=\"definitionBar\" style=\"text-decoration: none; color: black; font-size: 23px\">Definition and Characteristics of Bar Graphs</a></h1>\n",
    "\n",
    "A **bar graph** is a pictorial representation of data that uses bars to compare different categories of data. \n",
    "- bar graph should have spaces between adjacent bars.\n",
    "- histograms represent the frequency distribution of continuous numerical data. "
   ]
  },
  {
   "cell_type": "markdown",
   "metadata": {},
   "source": [
    "<h1><a name=\"constructBar\" style=\"text-decoration: none; color: black; font-size: 23px\">Construction of Bar Graphs</a></h1>\n",
    "\n",
    "To construct a bar graph, you first list the categories of measurement along the X-axis and then draw a bar above each category so that the height of the bar corresponds to the frequency for the category. \n",
    "\n",
    "- **Y-axis of a bar graph** indicates dependent variable along the vertical axis,  and this corresponds to the frequency of that range of data.\n",
    "     - a. The height of the bar corresponds to the frequency for that category.\n",
    "     \n",
    "\n",
    "- **X-axis of a bar graph** indicates independent variable along the horizontal axis, and a range of data is graphed here. \n",
    "    - b. Each rectangular block indicates specific category, and the length of the bars depend on the value they hold/ "
   ]
  },
  {
   "cell_type": "markdown",
   "metadata": {},
   "source": [
    "The graph below is an example of a bar graph using this set of data.\n",
    "Suppose we are collecting data about the frequency distribution of different blood types. We will import the data using CSV files and construct a bar graph based on the data. "
   ]
  },
  {
   "cell_type": "code",
   "execution_count": 5,
   "metadata": {},
   "outputs": [],
   "source": [
    "import matplotlib.pyplot as plt\n",
    "import pandas as pd\n",
    "import plotly.offline as py\n",
    "import numpy as np\n",
    "import plotly.graph_objs as go"
   ]
  },
  {
   "cell_type": "code",
   "execution_count": 2,
   "metadata": {},
   "outputs": [
    {
     "data": {
      "text/html": [
       "<div>\n",
       "<style scoped>\n",
       "    .dataframe tbody tr th:only-of-type {\n",
       "        vertical-align: middle;\n",
       "    }\n",
       "\n",
       "    .dataframe tbody tr th {\n",
       "        vertical-align: top;\n",
       "    }\n",
       "\n",
       "    .dataframe thead th {\n",
       "        text-align: right;\n",
       "    }\n",
       "</style>\n",
       "<table border=\"1\" class=\"dataframe\">\n",
       "  <thead>\n",
       "    <tr style=\"text-align: right;\">\n",
       "      <th></th>\n",
       "      <th>Blood</th>\n",
       "      <th>Frequency</th>\n",
       "    </tr>\n",
       "  </thead>\n",
       "  <tbody>\n",
       "    <tr>\n",
       "      <th>0</th>\n",
       "      <td>A</td>\n",
       "      <td>20</td>\n",
       "    </tr>\n",
       "    <tr>\n",
       "      <th>1</th>\n",
       "      <td>B</td>\n",
       "      <td>55</td>\n",
       "    </tr>\n",
       "    <tr>\n",
       "      <th>2</th>\n",
       "      <td>O</td>\n",
       "      <td>68</td>\n",
       "    </tr>\n",
       "    <tr>\n",
       "      <th>3</th>\n",
       "      <td>AB</td>\n",
       "      <td>10</td>\n",
       "    </tr>\n",
       "  </tbody>\n",
       "</table>\n",
       "</div>"
      ],
      "text/plain": [
       "  Blood  Frequency\n",
       "0     A         20\n",
       "1     B         55\n",
       "2     O         68\n",
       "3    AB         10"
      ]
     },
     "execution_count": 2,
     "metadata": {},
     "output_type": "execute_result"
    }
   ],
   "source": [
    "#import data from a CSV file \n",
    "#you can use a different set of data by importing a different CSV files and index_col\n",
    "\n",
    "data = pd.read_csv('Data/graph3.csv')\n",
    "\n",
    "# print the table of the data\n",
    "data"
   ]
  },
  {
   "cell_type": "code",
   "execution_count": 6,
   "metadata": {},
   "outputs": [
    {
     "data": {
      "text/plain": [
       "<BarContainer object of 4 artists>"
      ]
     },
     "execution_count": 6,
     "metadata": {},
     "output_type": "execute_result"
    },
    {
     "data": {
      "image/png": "[encoded data removed]",
      "text/plain": [
       "<Figure size 432x288 with 1 Axes>"
      ]
     },
     "metadata": {
      "needs_background": "light"
     },
     "output_type": "display_data"
    }
   ],
   "source": [
    "#you can also change the labels of the X-axis and Y-axis.\n",
    "plt.ylabel('Frequency')\n",
    "plt.xlabel('Blood Types')\n",
    "\n",
    "#you can also change the title of the graph.\n",
    "plt.title('Title of The Graph')\n",
    "\n",
    "#you can also change the grouped data by importing a different CSV file.\n",
    "plt.bar(x=data['Blood'], height =data['Frequency'])"
   ]
  },
  {
   "cell_type": "markdown",
   "metadata": {},
   "source": [
    "<h1><a name=\"Differences\" style=\"text-decoration: none; color: black; font-size: 23px\">Differences Between Histograms and Bar Graphs</a></h1>\n",
    "\n",
    "\n",
    "histograms are really similar to bar graphs, but there are some fundamental differences between these two types of frequency distribution graphs \n",
    "1. Histograms have **no spaces left between adjacent bars**, but bar graphs have **spaces between adjacent bars**.\n",
    "          - for a nominal scale, histograms are used for a range of data. The space between bars emphasizes that the sale consists of separate. \n",
    "          - for an ordinal sclare, separate bar graphs are used because you cannot assume that the categories are all the same size. \n",
    "\n",
    "\n",
    "2. Histograms are used for **distribution of continuous variables**, but bar graphs are used mainly for **comparison of discrete variables**.\n",
    "\n",
    "3. Histograms are used for **quantitative data**, but bar graphs are used mainly for **categorical data**. "
   ]
  },
  {
   "cell_type": "markdown",
   "metadata": {},
   "source": [
    "<h1><a name=\"relative\" style=\"text-decoration: none; color: black; font-size: 23px\">Obtain Relative Frequencies</a></h1>\n",
    "\n",
    "Although you cannot find the absolute frequency for each score in a population using bar graphs, they can often obtain relative frequencies. </a><br>\n",
    "\n",
    "\n",
    "For example, the graph below shows the relative frequency of females and males in the United States. Note that the exact number of individuals is not known. The graph simply shows that there are slightly more females than males. "
   ]
  },
  {
   "cell_type": "code",
   "execution_count": 7,
   "metadata": {},
   "outputs": [
    {
     "data": {
      "image/png": "[encoded data removed]",
      "text/plain": [
       "<Figure size 432x288 with 1 Axes>"
      ]
     },
     "metadata": {
      "needs_background": "light"
     },
     "output_type": "display_data"
    }
   ],
   "source": [
    "import pylab as plt\n",
    "\n",
    "x = [1,2]\n",
    "frequency = [54, 46]\n",
    "labels = [\"Females\", \"Males\"]\n",
    "\n",
    "plt.bar(x, frequency, align='center')\n",
    "plt.xticks(x, labels)\n",
    "plt.show()\n"
   ]
  },
  {
   "cell_type": "markdown",
   "metadata": {},
   "source": [
    "<h1><a name=\"References\" style=\"text-decoration: none; color: black;\">References and Credits</a></h1>\n",
    "Most of the illustrations and examples are from:\n",
    "\n",
    "Gravetter, F. J., & Wallnau, L. B. (2016). Statistics for the behavioral sciences (10th Ed). Belmont, CA: Thomson Wadsworth.\n",
    "\n",
    "S, S. (2019). Difference Between Histogram and Bar Graph (with Comparison Chart) - Key Differences. [online] Key Differences. Available at: https://keydifferences.com/difference-between-histogram-and-bar-graph.html#KeyDifferences [Accessed 29 Aug. 2019]."
   ]
  },
  {
   "cell_type": "markdown",
   "metadata": {},
   "source": [
    "<img src=\"Images/callystoBannerBottom.jpg\"/>"
   ]
  }
 ],
 "metadata": {
  "kernelspec": {
   "display_name": "Python 3",
   "language": "python",
   "name": "python3"
  },
  "language_info": {
   "codemirror_mode": {
    "name": "ipython",
    "version": 3
   },
   "file_extension": ".py",
   "mimetype": "text/x-python",
   "name": "python",
   "nbconvert_exporter": "python",
   "pygments_lexer": "ipython3",
   "version": "3.7.3"
  }
 },
 "nbformat": 4,
 "nbformat_minor": 2
}
