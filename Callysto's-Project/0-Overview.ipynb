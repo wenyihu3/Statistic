{
 "cells": [
  {
   "cell_type": "markdown",
   "metadata": {},
   "source": [
    "<img src=\"Images/callystoBannerTop.jpg\"/>"
   ]
  },
  {
   "cell_type": "markdown",
   "metadata": {},
   "source": [
    "# Overview\n",
    "**Learning Objectives:** \n",
    "1. Descrive how three types of frequency distribution graphs--histograms, polygons, and bar graphs--are constructed and identify when each is used.\n",
    "2. Descrive the basic elements of a frequency distribution graph and explain how they are related to the original set of scores.\n",
    "3. Explain how frequency distribution graphs for populations differ from the graphs used for samples.\n",
    "4. Identify the shape- symmetrical, and positively or negatively skewed- of a distribution in a frequency distribution graph. \n",
    "\n",
    "We are expecting that the students to have the basic knowledge about the fundamentals about statistics, the basic elements of a frequency distribution graph. \n",
    "\n",
    "To run all of the cells, please click on  `Cell` which is in the menu, click on `Run All Below` and scroll all the way back to the top of the notebook to use the notebook. "
   ]
  },
  {
   "cell_type": "markdown",
   "metadata": {},
   "source": [
    "# Introduction\n",
    "A **frequency distribution graph** is basically a picture of the information available in a frequency distribution table.</a><br>We will consider several different types of graph, but all start with two perpendicular lines called axes.\n",
    "\n",
    "**There are four general rules for a frequency distribution graph. **(Violating these guidelines can give a misleading picture of the data.)</a><br>\n",
    "\n",
    "1. The horizontal line is the X-axis, or the abscissa.\n",
    "    - The measurement scale is listed along the X-axis with values increasing from left to right. \n",
    "2. The vertical line is the Y-axis, or the ordinate. \n",
    "    - The frequencies are listed on the Y-axis with values increasing from bottom to top\n",
    "3. As a general rule, the point where the two axes intersect should have a value of zero for both the scores and the frequencies. \n",
    "4. A final general rule is that the graph should be constructed so that its height is approximately two-thirds to three-quarters of its length. "
   ]
  },
  {
   "cell_type": "markdown",
   "metadata": {},
   "source": [
    "# Table of Contents \n",
    "1. [Graphs for Interval or Ratio Graph](1-Interval-Graph.ipynb)\n",
    "    - About 30 minutes to complete\n",
    "    - Histograms \n",
    "    - Polygons \n",
    "    \n",
    "    \n",
    "2. [Graphs for Nominal or Ordinal Data](2-Nominal-Graph.ipynb)\n",
    "    - About 15 minutes to complete\n",
    "    - Bar Graphs \n",
    "    \n",
    "    \n",
    "3. [Exercises and Solutions](3-Exercises.ipynb)\n",
    "    - About 7 minutes to complete"
   ]
  },
  {
   "cell_type": "markdown",
   "metadata": {},
   "source": [
    "# Reference and Credits\n",
    "Most of the illustrations and examples are from:\n",
    "\n",
    "Gravetter, F. J., & Wallnau, L. B. (2016). Statistics for the behavioral sciences (10th Ed). Belmont, CA: Thomson Wadsworth.\n",
    "\n",
    "S, S. (2019). Difference Between Histogram and Bar Graph (with Comparison Chart) - Key Differences. [online] Key Differences. Available at: https://keydifferences.com/difference-between-histogram-and-bar-graph.html#KeyDifferences [Accessed 29 Aug. 2019]."
   ]
  },
  {
   "cell_type": "markdown",
   "metadata": {},
   "source": [
    "<img src=\"Images/callystoBannerBottom.jpg\"/>"
   ]
  }
 ],
 "metadata": {
  "kernelspec": {
   "display_name": "Python 3",
   "language": "python",
   "name": "python3"
  },
  "language_info": {
   "codemirror_mode": {
    "name": "ipython",
    "version": 3
   },
   "file_extension": ".py",
   "mimetype": "text/x-python",
   "name": "python",
   "nbconvert_exporter": "python",
   "pygments_lexer": "ipython3",
   "version": "3.7.3"
  }
 },
 "nbformat": 4,
 "nbformat_minor": 2
}
